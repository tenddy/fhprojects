{
 "metadata": {
  "language_info": {
   "codemirror_mode": {
    "name": "ipython",
    "version": 3
   },
   "file_extension": ".py",
   "mimetype": "text/x-python",
   "name": "python",
   "nbconvert_exporter": "python",
   "pygments_lexer": "ipython3",
   "version": "3.7.4-final"
  },
  "orig_nbformat": 2,
  "kernelspec": {
   "name": "python37464bit3e91e0bd22fd4024aab214c4ffe108ec",
   "display_name": "Python 3.7.4 64-bit"
  }
 },
 "nbformat": 4,
 "nbformat_minor": 2,
 "cells": [
  {
   "cell_type": "code",
   "execution_count": 1,
   "metadata": {
    "tags": []
   },
   "outputs": [
    {
     "output_type": "stream",
     "name": "stdout",
     "text": "(1, 1, 1, 2)\n"
    }
   ],
   "source": [
    "tp = (1,1,1)\n",
    "tp_new = (*tp, 2)\n",
    "print(tp_new)"
   ]
  },
  {
   "cell_type": "code",
   "execution_count": 16,
   "metadata": {
    "tags": []
   },
   "outputs": [
    {
     "output_type": "stream",
     "name": "stdout",
     "text": "-parent system1 -Name {GetConfigInfoCommand 1} -QueryRoots project1 -Names {{Project 1|Ports} {Project 1|Ports Online} {Project 1|Model/Media Type|? (offline) / Ethernet10GigFiber} {Project 1|Model/Media Type|? (offline) / EthernetCopper}} -Values {2 0 1 1} -State COMPLETED -Status {} -StartTime 1595398329.40232 -EndTime 1595398329.40732 -ElapsedTime 5 -ProgressDisplayCounter true -ProgressStepsCount 1 -ProgressCurrentStep 1 -ProgressCurrentStepName {} -ProgressMaxValue 0 -ProgressCurrentValue 0 -ProgressCancelled false -Active true\n"
    }
   ],
   "source": [
    "info = \"-parent system1 -Name {GetConfigInfoCommand 1} -QueryRoots project1 -Names {{Project 1|Ports} {Project 1|Ports Online} {Project 1|Model/Media Type|? (offline) / Ethernet10GigFiber} {Project 1|Model/Media Type|? (offline) / EthernetCopper}} -Values {2 0 1 1} -State COMPLETED -Status {} -StartTime 1595398329.40232 -EndTime 1595398329.40732 -ElapsedTime 5 -ProgressDisplayCounter true -ProgressStepsCount 1 -ProgressCurrentStep 1 -ProgressCurrentStepName {} -ProgressMaxValue 0 -ProgressCurrentValue 0 -ProgressCancelled false -Active true\"\n",
    "\n",
    "print(info)"
   ]
  },
  {
   "cell_type": "code",
   "execution_count": 10,
   "metadata": {
    "tags": []
   },
   "outputs": [
    {
     "output_type": "stream",
     "name": "stdout",
     "text": "['', 'parent system1 ', 'Name {GetConfigInfoCommand 1} ', 'QueryRoots project1 ', 'Names {{Project 1|Ports} {Project 1|Ports Online} {Project 1|Model/Media Type|? (offline)  Ethernet10GigFiber} {Project 1|Model/Media Type|? (offline) EthernetCopper} {Project 1|Model/Media Type|? (offline)  unknown}} ', 'Values {4 0 1 1 2} ', 'State COMPLETED ', 'Status {} ', 'StartTime 1595397156.02121 ', 'EndTime 1595397156.02821 ', 'ElapsedTime 7 ', 'ProgressDisplayCounter true ', 'ProgressStepsCount 1 ', 'ProgressCurrentStep 1 ', 'ProgressCurrentStepName {} ', 'ProgressMaxValue 0 ', 'ProgressCurrentValue 0 ', 'ProgressCancelled false ', 'Active true']\n"
    }
   ],
   "source": [
    "# info = info.replace(\"-\", ' ')\n",
    "print(info.split(\"-\"))"
   ]
  },
  {
   "cell_type": "code",
   "execution_count": 18,
   "metadata": {
    "tags": []
   },
   "outputs": [
    {
     "output_type": "stream",
     "name": "stdout",
     "text": "2\n"
    }
   ],
   "source": [
    "import re\n",
    "ports_count = re.findall(r\"Values {(\\d*) (\\d*) (\\d*) (\\d*)}\", info)\n",
    "print(ports_count[0][0])"
   ]
  },
  {
   "cell_type": "code",
   "execution_count": 92,
   "metadata": {
    "tags": []
   },
   "outputs": [],
   "source": [
    "import pandas as pd \n",
    "tc_path = r'C:/Users/Teddy/Desktop/test/tc_3.xlsx'\n",
    "tc_data = pd.read_excel(tc_path)\n",
    "\n",
    "# tc_data['用例编号']\n",
    "# for index in range(tc_data.shape[0]):\n",
    "#     print(tc_data['用例编号'][index])"
   ]
  },
  {
   "cell_type": "code",
   "execution_count": 87,
   "metadata": {
    "tags": []
   },
   "outputs": [
    {
     "output_type": "stream",
     "name": "stdout",
     "text": "xPON-013568\n{'需求编号': ['00']}\n  需求编号\n0   00\n"
    }
   ],
   "source": [
    "tc = tc_data['用例编号'][0]\n",
    "print(tc)\n",
    "dt_data = dict()\n",
    "dt_value = 0\n",
    "dt_data['需求编号'] = ['00']\n",
    "print(dt_data)\n",
    "pd_data = pd.DataFrame(dt_data)\n",
    "print(pd_data)"
   ]
  },
  {
   "cell_type": "code",
   "execution_count": 88,
   "metadata": {},
   "outputs": [],
   "source": [
    "tc_td_data = pd.concat([tc_data,pd_data], axis=1)"
   ]
  },
  {
   "cell_type": "code",
   "execution_count": null,
   "metadata": {
    "tags": []
   },
   "outputs": [],
   "source": [
    "import re\n",
    "import pandas as pd\n",
    " \n",
    "# 从RDM导出的测试用例表\n",
    "tc_path = r'C:/Users/Teddy/Desktop/test/tc_3.xlsx'\n",
    "tc_data = pd.read_excel(tc_path)\n",
    "dt_data = dict()\n",
    "dt_data['需求编号'] = []\n",
    "pd_data = pd.DataFrame(dt_data)\n",
    "tc_td_data = pd.concat([tc_data,pd_data], axis=1)\n",
    "\n",
    "# 读取设计需求, 从Excel中选取需要匹配的设计需求到文本\n",
    "with open(\"C:/Users/Teddy/Desktop/test/dt_3.txt\",encoding='utf-8') as f:\n",
    "    data = f.read()\n",
    "    # print(data)\n",
    "    for index in range(tc_td_data.shape[0]):\n",
    "        tc_index = tc_td_data['用例编号'][index]\n",
    "        tc_name = tc_td_data['标题名称'][index]\n",
    "        ret = re.findall(r'(D-BS-BA-DEVICE-MANAGE-\\d*):.*%s.*' % tc_name, data)\n",
    "        # print(ret)\n",
    "        if len(ret) >= 2:\n",
    "            print(\"一对多:%s -- %s\" %(tc_index, ret))\n",
    "\n",
    "        if len(ret) >= 1:\n",
    "            tc_td_data['需求编号'][index] = ret[0]\n",
    "\n",
    "with pd.ExcelWriter(\"C:/Users/Teddy/Desktop/test/new_d3.xlsx\") as excel:\n",
    "    tc_td_data.to_excel(excel)\n",
    "    \n"
   ]
  },
  {
   "cell_type": "code",
   "execution_count": null,
   "metadata": {},
   "outputs": [],
   "source": []
  }
 ]
}